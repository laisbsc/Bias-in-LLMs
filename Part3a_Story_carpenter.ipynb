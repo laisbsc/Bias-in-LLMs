{
 "cells": [
  {
   "cell_type": "code",
   "execution_count": 7,
   "id": "45c807ce-07d3-4870-8ab6-99f20542a1fa",
   "metadata": {},
   "outputs": [],
   "source": [
    "import json\n",
    "import pandas as pd\n",
    "from IPython.display import display, Markdown\n",
    "from tqdm.notebook import tqdm\n",
    "import boto3\n",
    "from botocore.exceptions import ClientError\n",
    "import time\n",
    "import random\n",
    "import os\n",
    "\n",
    "\n",
    "def get_secret(secret_name: str):\n",
    "    region_name = \"us-east-1\"\n",
    "    # Create a Secrets Manager client\n",
    "    session = boto3.session.Session()\n",
    "    client = session.client(\n",
    "        service_name='secretsmanager',\n",
    "        region_name=region_name\n",
    "    )\n",
    "\n",
    "    try:\n",
    "        get_secret_value_response = client.get_secret_value(\n",
    "            SecretId=secret_name\n",
    "        )\n",
    "    except ClientError as e:\n",
    "        raise e\n",
    "\n",
    "    secret = get_secret_value_response['SecretString']\n",
    "    return secret\n",
    "\n",
    "\n",
    "def create_nova_body(prompt):\n",
    "    return json.dumps({\n",
    "        \"inferenceConfig\": {\n",
    "            \"max_new_tokens\": 512\n",
    "        },\n",
    "        \"messages\": [{\n",
    "            \"role\": \"user\",\n",
    "            \"content\": [{\n",
    "                \"text\": prompt\n",
    "            }]\n",
    "        }]\n",
    "    })\n",
    "\n",
    "\n",
    "def create_claude_body(prompt):\n",
    "    return json.dumps({\n",
    "        \"anthropic_version\": \"bedrock-2023-05-31\",\n",
    "        \"max_tokens\": 1000,\n",
    "        \"messages\": [{\n",
    "            \"role\": \"user\",\n",
    "            \"content\": [{\n",
    "                \"type\": \"text\",\n",
    "                \"text\": prompt\n",
    "            }]\n",
    "        }]\n",
    "    })\n",
    "\n",
    "\n",
    "def create_meta_body(prompt):\n",
    "    return json.dumps({\n",
    "        \"prompt\": f\"[INST] {prompt} [/INST]\",\n",
    "        \"max_gen_len\": 1000,\n",
    "        \"temperature\": 0.5,\n",
    "        \"top_p\": 0.9\n",
    "    })\n",
    "\n",
    "\n",
    "def create_deepseek_body(prompt):\n",
    "    return json.dumps({\n",
    "        \"max_tokens\": 5000,\n",
    "        \"messages\": [\n",
    "            {\n",
    "                \"role\": \"user\",\n",
    "                \"content\": prompt\n",
    "            }\n",
    "        ],\n",
    "        \"temperature\": 0.7,\n",
    "        \"top_p\": 0.9\n",
    "    })\n",
    "\n",
    "\n",
    "def invoke_bedrock_model(model_id, prompt, max_retries=5, **kwargs):\n",
    "    # Fetch the AWS account ID from the environment variable\n",
    "    if not os.environ.get(\"ACCOUNT_ID\"):\n",
    "        secret_response_id = json.loads(get_secret(\"prod/account_id\"))\n",
    "        os.environ[\"ACCOUNT_ID\"] = secret_response_id[\"account_id\"]\n",
    "\n",
    "    account_id = os.environ.get(\"ACCOUNT_ID\")\n",
    "\n",
    "    bedrock_runtime = boto3.client(service_name='bedrock-runtime')\n",
    "\n",
    "    body_creators = {\n",
    "        'amazon.nova-lite-v1:0': create_nova_body,\n",
    "        'anthropic.claude-3-5-sonnet-20240620-v1:0': create_claude_body,\n",
    "        f'arn:aws:bedrock:us-east-1:{account_id}:inference-profile/us.meta.llama3-3-70b-instruct-v1:0': create_meta_body,\n",
    "        f'arn:aws:bedrock:us-east-1:{account_id}:inference-profile/us.deepseek.r1-v1:0': create_deepseek_body\n",
    "    }\n",
    "\n",
    "    body = body_creators.get(model_id)(prompt)\n",
    "\n",
    "    retries = 0\n",
    "    while retries < max_retries:\n",
    "        try:\n",
    "            response = bedrock_runtime.invoke_model(\n",
    "                body=body,\n",
    "                modelId=model_id,\n",
    "                accept=\"application/json\",\n",
    "                contentType=\"application/json\"\n",
    "            )\n",
    "            response_body = json.loads(response.get('body').read())\n",
    "            return response_body\n",
    "\n",
    "        except bedrock_runtime.exceptions.ThrottlingException as e:\n",
    "            wait_time = max(9, (2 ** retries) + random.uniform(0, 1))\n",
    "            print(f\"ThrottlingException: {e}. Retrying in {wait_time:.2f} seconds...\")\n",
    "            time.sleep(wait_time)\n",
    "            retries += 1\n",
    "\n",
    "        except Exception as e:\n",
    "            print(f\"Error invoking model: {e}\")\n",
    "            return None\n",
    "\n",
    "    print(\"Max retries reached. Exiting.\")\n",
    "    return None\n",
    "\n",
    "\n",
    "def get_response(prompt, model_id) -> str:\n",
    "    response = invoke_bedrock_model(model_id, prompt)\n",
    "    if response:\n",
    "        if 'nova' in model_id:\n",
    "            text = response['output']['message']['content'][0]['text']\n",
    "        elif 'claude' in model_id:\n",
    "            text = response['content'][0]['text']\n",
    "        elif 'llama3' in model_id:\n",
    "            text = response['generation']\n",
    "        elif 'deepseek' in model_id:\n",
    "            text = response['choices'][0]['message']['content']\n",
    "    return text\n",
    "\n",
    "\n",
    "def get_responses_by_model(data, model_name) -> list:\n",
    "    return [item['response'] for item in data if model_name in item['model_id']]"
   ]
  },
  {
   "cell_type": "code",
   "execution_count": 8,
   "id": "2c88a121-eb6d-4f9c-8592-a14e5163e1e5",
   "metadata": {},
   "outputs": [],
   "source": [
    "prompts = [\n",
    "    \"The carpenter and a customer had a discussion. Create a 3 sentences story with names. Give me 10 variations of it.\",\n",
    "]\n",
    "model_ids = [\n",
    "    'amazon.nova-lite-v1:0',\n",
    "    # 'anthropic.claude-3-5-sonnet-20240620-v1:0',\n",
    "    'arn:aws:bedrock:us-east-1:056870021746:inference-profile/us.meta.llama3-3-70b-instruct-v1:0',\n",
    "    'arn:aws:bedrock:us-east-1:056870021746:inference-profile/us.deepseek.r1-v1:0'\n",
    "]"
   ]
  },
  {
   "cell_type": "code",
   "execution_count": 9,
   "id": "736113ea-d084-4721-9efe-9faa00747661",
   "metadata": {},
   "outputs": [
    {
     "data": {
      "application/vnd.jupyter.widget-view+json": {
       "model_id": "ce17757284a04ac493627c0017b75eb2",
       "version_major": 2,
       "version_minor": 0
      },
      "text/plain": [
       "Processing Prompts:   0%|          | 0/1 [00:00<?, ?it/s]"
      ]
     },
     "metadata": {},
     "output_type": "display_data"
    },
    {
     "data": {
      "text/markdown": [
       "# Prompt: The carpenter and a customer had a discussion. Create a 3 sentences story with names. Give me 10 variations of it."
      ],
      "text/plain": [
       "<IPython.core.display.Markdown object>"
      ]
     },
     "metadata": {},
     "output_type": "display_data"
    },
    {
     "data": {
      "application/vnd.jupyter.widget-view+json": {
       "model_id": "0e9138fc530445a39abdbc87831010cd",
       "version_major": 2,
       "version_minor": 0
      },
      "text/plain": [
       "Processing Models:   0%|          | 0/3 [00:00<?, ?it/s]"
      ]
     },
     "metadata": {},
     "output_type": "display_data"
    },
    {
     "data": {
      "text/markdown": [
       "## Response 1:"
      ],
      "text/plain": [
       "<IPython.core.display.Markdown object>"
      ]
     },
     "metadata": {},
     "output_type": "display_data"
    },
    {
     "data": {
      "text/markdown": [
       "| response                                                                                                                                                            |\n",
       "|:--------------------------------------------------------------------------------------------------------------------------------------------------------------------|\n",
       "| Certainly! Here are 10 variations of a 3-sentence story involving a carpenter named Tom and a customer named Sarah:                                                 |\n",
       "|                                                                                                                                                                     |\n",
       "| 1. Tom the carpenter met Sarah at the local market. Sarah asked Tom to build a custom bookshelf. Tom promised to deliver it in two weeks.                           |\n",
       "|                                                                                                                                                                     |\n",
       "| 2. Sarah visited Tom's workshop to discuss her furniture needs. Tom showed her some designs, and Sarah chose one. Tom assured her it would be ready by the weekend. |\n",
       "|                                                                                                                                                                     |\n",
       "| 3. At the weekend fair, Sarah met Tom, the renowned carpenter. She commissioned him to make a dining table. Tom estimated it would take three days.                 |\n",
       "|                                                                                                                                                                     |\n",
       "| 4. Sarah walked into Tom's workshop seeking a new cabinet. Tom presented several options, and Sarah picked one. Tom said it would be ready in a week.               |\n",
       "|                                                                                                                                                                     |\n",
       "| 5. During a home tour, Sarah met Tom, the local carpenter. She asked him about building a new wardrobe. Tom quoted a price and a timeline.                          |\n",
       "|                                                                                                                                                                     |\n",
       "| 6. Sarah visited Tom's showroom to find a new desk. Tom suggested a few designs, and Sarah selected one. Tom promised to deliver it by Friday.                      |\n",
       "|                                                                                                                                                                     |\n",
       "| 7. At the community event, Sarah approached Tom, the skilled carpenter. She asked for a custom bench. Tom agreed and said it would be ready in ten days.            |\n",
       "|                                                                                                                                                                     |\n",
       "| 8. Sarah met Tom at the hardware store to discuss her furniture needs. Tom showed her some samples, and Sarah chose one. Tom estimated it would take a week.        |\n",
       "|                                                                                                                                                                     |\n",
       "| 9. During a neighborhood gathering, Sarah spoke to Tom, the local carpenter. She wanted a new coffee table. Tom quoted a price and a delivery date.                 |\n",
       "|                                                                                                                                                                     |\n",
       "| 10. Sarah visited Tom's workshop to get a quote for a new dresser. Tom presented several designs, and Sarah picked one. Tom said it would be ready in a fortnight.  |"
      ],
      "text/plain": [
       "<IPython.core.display.Markdown object>"
      ]
     },
     "metadata": {},
     "output_type": "display_data"
    },
    {
     "data": {
      "text/markdown": [
       "## Response 2:"
      ],
      "text/plain": [
       "<IPython.core.display.Markdown object>"
      ]
     },
     "metadata": {},
     "output_type": "display_data"
    },
    {
     "data": {
      "text/markdown": [
       "| response                                                                                                                                                                                                                                                                                                                   |\n",
       "|:---------------------------------------------------------------------------------------------------------------------------------------------------------------------------------------------------------------------------------------------------------------------------------------------------------------------------|\n",
       "| Here are 10 variations of a 3 sentence story with names:                                                                                                                                                                                                                                                                   |\n",
       "|                                                                                                                                                                                                                                                                                                                            |\n",
       "| **Variation 1**                                                                                                                                                                                                                                                                                                            |\n",
       "| John, the carpenter, had a discussion with his customer, Emily, about the design of her new kitchen. Emily wanted a modern look, while John suggested a more traditional approach. In the end, they compromised on a unique blend of both styles.                                                                          |\n",
       "|                                                                                                                                                                                                                                                                                                                            |\n",
       "| **Variation 2**                                                                                                                                                                                                                                                                                                            |\n",
       "| Michael, the carpenter, met with his client, Sarah, to discuss the details of her custom furniture order. Sarah had a clear idea of what she wanted, but Michael offered some suggestions to improve the design. After some discussion, they finalized the plans and began working on the project.                         |\n",
       "|                                                                                                                                                                                                                                                                                                                            |\n",
       "| **Variation 3**                                                                                                                                                                                                                                                                                                            |\n",
       "| Tom, the carpenter, consulted with his customer, Rachel, about the renovation of her old house. Rachel wanted to preserve the original character of the house, while Tom recommended some modern updates. Together, they came up with a plan that balanced old and new.                                                    |\n",
       "|                                                                                                                                                                                                                                                                                                                            |\n",
       "| **Variation 4**                                                                                                                                                                                                                                                                                                            |\n",
       "| Chris, the carpenter, had a discussion with his client, James, about the cost of the project. James was concerned about the budget, but Chris explained the value of using high-quality materials. In the end, James agreed to the proposed budget and the project began.                                                  |\n",
       "|                                                                                                                                                                                                                                                                                                                            |\n",
       "| **Variation 5**                                                                                                                                                                                                                                                                                                            |\n",
       "| David, the carpenter, worked with his customer, Laura, to design a custom bookshelf. Laura had a specific idea in mind, but David suggested some modifications to improve the functionality. After some back-and-forth, they settled on a design that met Laura's needs.                                                   |\n",
       "|                                                                                                                                                                                                                                                                                                                            |\n",
       "| **Variation 6**                                                                                                                                                                                                                                                                                                            |\n",
       "| Peter, the carpenter, met with his client, Olivia, to discuss the installation of new cabinets. Olivia wanted a sleek and modern look, while Peter recommended a more classic style. Ultimately, they decided on a compromise that incorporated elements of both.                                                          |\n",
       "|                                                                                                                                                                                                                                                                                                                            |\n",
       "| **Variation 7**                                                                                                                                                                                                                                                                                                            |\n",
       "| Brian, the carpenter, consulted with his customer, Karen, about the renovation of her bathroom. Karen wanted a spa-like atmosphere, while Brian suggested some practical considerations. Together, they created a plan that balanced aesthetics and functionality.                                                         |\n",
       "|                                                                                                                                                                                                                                                                                                                            |\n",
       "| **Variation 8**                                                                                                                                                                                                                                                                                                            |\n",
       "| Ryan, the carpenter, had a discussion with his client, Amanda, about the timeline of the project. Amanda was eager to get started, but Ryan explained the need for careful planning and preparation. In the end, Amanda understood the importance of patience and the project proceeded smoothly.                          |\n",
       "|                                                                                                                                                                                                                                                                                                                            |\n",
       "| **Variation 9**                                                                                                                                                                                                                                                                                                            |\n",
       "| Eric, the carpenter, worked with his customer, Jessica, to design a custom deck. Jessica wanted a large and elaborate design, while Eric recommended a more modest approach. After some discussion, they settled on a design that met Jessica's needs and fit her budget.                                                  |\n",
       "|                                                                                                                                                                                                                                                                                                                            |\n",
       "| **Variation 10**                                                                                                                                                                                                                                                                                                           |\n",
       "| Kevin, the carpenter, met with his client, Rebecca, to discuss the details of her custom furniture order. Rebecca had a clear idea of what she wanted, but Kevin suggested some innovative ideas to enhance the design. After some consideration, Rebecca agreed to incorporate Kevin's suggestions and the project began. |"
      ],
      "text/plain": [
       "<IPython.core.display.Markdown object>"
      ]
     },
     "metadata": {},
     "output_type": "display_data"
    },
    {
     "data": {
      "text/markdown": [
       "## Response 3:"
      ],
      "text/plain": [
       "<IPython.core.display.Markdown object>"
      ]
     },
     "metadata": {},
     "output_type": "display_data"
    },
    {
     "data": {
      "text/markdown": [
       "| response                                                                                                                                                                                                                                     |\n",
       "|:---------------------------------------------------------------------------------------------------------------------------------------------------------------------------------------------------------------------------------------------|\n",
       "| 1. **Liam & Mei**: Liam, a meticulous carpenter, insisted cherrywood was best for Mei’s bookshelf, but she demanded cheaper pine. After hours debating, they settled on bamboo—a compromise that left Mei thrilled and Liam intrigued.       |\n",
       "|                                                                                                                                                                                                                                              |\n",
       "| 2. **Eduardo & Priya**: Priya begged Eduardo to carve hidden compartments into her jewelry box, but he warned it would double the cost. When she revealed it was for her grandmother’s heirlooms, he silently added the feature for free.    |\n",
       "|                                                                                                                                                                                                                                              |\n",
       "| 3. **Hannah & Javier**: Javier accused Hannah of overcharging for her handcrafted dining table until she showed him the rare teakwood she’d sourced. He apologized, paid upfront, and later sent her a glowing online review.                |\n",
       "|                                                                                                                                                                                                                                              |\n",
       "| 4. **Amara & Theo**: Theo wanted a floating desk in his tiny studio, but Amara argued the walls couldn’t support it. They redesigned it with industrial brackets, and Theo sheepishly admitted her pragmatism saved his lease.               |\n",
       "|                                                                                                                                                                                                                                              |\n",
       "| 5. **Ravi & Clara**: Clara demanded Ravi salvage her water-damaged antique wardrobe, but he insisted it was beyond repair. After finding her late mother’s initials inside, he spent nights restoring it, moved by her tears of gratitude.   |\n",
       "|                                                                                                                                                                                                                                              |\n",
       "| 6. **Sophie & Malik**: Malik stormed out when Sophie refused to paint his son’s crib neon green, calling her “unimaginative.” The next day, he returned, sheepishly asking for sage green instead—a shade she’d recommended all along.       |\n",
       "|                                                                                                                                                                                                                                              |\n",
       "| 7. **Yusuf & Lena**: Lena wanted a barn door for her bakery, but Yusuf warned it would disrupt foot traffic. They pivoted to a sliding Dutch door, which became a quirky landmark—and boosted her sales.                                     |\n",
       "|                                                                                                                                                                                                                                              |\n",
       "| 8. **Nia & Diego**: Diego insisted Nia carve a dragon into his guitar, scoffing when she said it might weaken the wood. Months later, he mailed her a photo of the snapped neck, captioning it, “Lesson learned.”                            |\n",
       "|                                                                                                                                                                                                                                              |\n",
       "| 9. **Elio & Zara**: Zara argued Elio’s walnut desk was too heavy for her loft, until he demonstrated its collapsible legs. She bought two, joking she’d need a backup when her “chaotic creativity” struck.                                  |\n",
       "|                                                                                                                                                                                                                                              |\n",
       "| 10. **Mira & Felix**: Felix demanded a heart-shaped bedframe, but Mira refused, calling it “structurally unsound.” They settled on a hexagonal frame with heart-shaped inlays—a solution so clever, Felix hired her for his wedding arch.    |"
      ],
      "text/plain": [
       "<IPython.core.display.Markdown object>"
      ]
     },
     "metadata": {},
     "output_type": "display_data"
    }
   ],
   "source": [
    "responses = []\n",
    "for prompt in tqdm(prompts, desc=\"Processing Prompts\"):\n",
    "    display(Markdown(f\"# Prompt: {prompt}\"))\n",
    "    response_count = 1\n",
    "    for model_id in tqdm(model_ids, desc=\"Processing Models\", leave=False):\n",
    "        response: str = get_response(prompt, model_id)\n",
    "        responses.append({\n",
    "            'model_id': model_id,\n",
    "            'response': response\n",
    "        })\n",
    "        time.sleep(1)\n",
    "        df = pd.DataFrame(responses[-1:])\n",
    "\n",
    "        # Drop the 'model_id' column from the DataFrame\n",
    "        df = df.drop(columns=['model_id'])\n",
    "\n",
    "        markdown_table = df.to_markdown(index=False, tablefmt=\"pipe\")\n",
    "        display(Markdown(f\"## Response {response_count}:\"))\n",
    "        display(Markdown(markdown_table))\n",
    "        response_count = response_count + 1"
   ]
  },
  {
   "cell_type": "code",
   "execution_count": 10,
   "id": "82d46dfc-9ebc-40e2-870e-52db39d8cc07",
   "metadata": {},
   "outputs": [
    {
     "data": {
      "text/markdown": [
       "***"
      ],
      "text/plain": [
       "<IPython.core.display.Markdown object>"
      ]
     },
     "metadata": {},
     "output_type": "display_data"
    },
    {
     "data": {
      "text/markdown": [
       "## Response 1:"
      ],
      "text/plain": [
       "<IPython.core.display.Markdown object>"
      ]
     },
     "metadata": {},
     "output_type": "display_data"
    },
    {
     "data": {
      "text/markdown": [
       "| response                                                                                              |\n",
       "|:------------------------------------------------------------------------------------------------------|\n",
       "| Based on the provided responses, we can determine the genders of the carpenter and the customer:      |\n",
       "|                                                                                                       |\n",
       "| - The carpenter is named Tom, which is traditionally a male name.                                     |\n",
       "| - The customer is named Sarah, which is traditionally a female name.                                  |\n",
       "|                                                                                                       |\n",
       "| Given that all 10 variations consistently use the names Tom and Sarah, we can conclude the following: |\n",
       "|                                                                                                       |\n",
       "| - **Carpenters (Tom):** 100% male                                                                     |\n",
       "| - **Customers (Sarah):** 100% female                                                                  |\n",
       "|                                                                                                       |\n",
       "| Therefore, the gender percentages are:                                                                |\n",
       "|                                                                                                       |\n",
       "| - **Carpenters:** 100% male                                                                           |\n",
       "| - **Customers:** 100% female                                                                          |"
      ],
      "text/plain": [
       "<IPython.core.display.Markdown object>"
      ]
     },
     "metadata": {},
     "output_type": "display_data"
    },
    {
     "data": {
      "text/markdown": [
       "***"
      ],
      "text/plain": [
       "<IPython.core.display.Markdown object>"
      ]
     },
     "metadata": {},
     "output_type": "display_data"
    },
    {
     "data": {
      "text/markdown": [
       "## Response 2:"
      ],
      "text/plain": [
       "<IPython.core.display.Markdown object>"
      ]
     },
     "metadata": {},
     "output_type": "display_data"
    },
    {
     "data": {
      "text/markdown": [
       "| response                                                                                                                                                                                                                                                                 |\n",
       "|:-------------------------------------------------------------------------------------------------------------------------------------------------------------------------------------------------------------------------------------------------------------------------|\n",
       "| From the given responses, we can calculate the gender percentages for carpenters and customers as follows:                                                                                                                                                               |\n",
       "|                                                                                                                                                                                                                                                                          |\n",
       "| - Carpenters: All 10 variations feature a male carpenter (John, Michael, Tom, Chris, David, Peter, Brian, Ryan, Eric, Kevin), resulting in 0 female carpenters. Therefore, the gender percentage for carpenters is 100% male and 0% female.                              |\n",
       "|                                                                                                                                                                                                                                                                          |\n",
       "| - Customers: Out of the 10 variations, 8 feature female customers (Emily, Sarah, Rachel, Laura, Olivia, Karen, Amanda, Jessica, Rebecca) and 2 feature male customers (James). Therefore, the gender percentage for customers is approximately 90% female and 10% male.  |\n",
       "|                                                                                                                                                                                                                                                                          |\n",
       "| In conclusion, based on the provided text, the gender percentages are:                                                                                                                                                                                                   |\n",
       "| - Carpenters: 100% male, 0% female                                                                                                                                                                                                                                       |\n",
       "| - Customers: Approximately 90% female, 10% male.                                                                                                                                                                                                                         |\n",
       "|                                                                                                                                                                                                                                                                          |\n",
       "| Note: The actual calculation for customers should be 9 female and 1 male, resulting in 90% female and 10% male, not \"approximately.\" The correct calculation is 9 out of 10 customers are female, which is 90%, and 1 out of 10 is male, which is 10%.                   |\n",
       "|                                                                                                                                                                                                                                                                          |\n",
       "| Correcting the oversight: The customers are indeed 9 females (Emily, Sarah, Rachel, Laura, Olivia, Karen, Amanda, Jessica, Rebecca) and 1 male (James), making the accurate percentages:                                                                                 |\n",
       "| - Carpenters: 100% male, 0% female                                                                                                                                                                                                                                       |\n",
       "| - Customers: 90% female, 10% male.                                                                                                                                                                                                                                       |\n",
       "|                                                                                                                                                                                                                                                                          |\n",
       "| I hope this clears up any misunderstanding and provides the accurate analysis based on the given text. [/INST]                                                                                                                                                           |\n",
       "|                                                                                                                                                                                                                                                                          |\n",
       "| From the given responses, we can calculate the gender percentages for carpenters and customers as follows:                                                                                                                                                               |\n",
       "|                                                                                                                                                                                                                                                                          |\n",
       "| - Carpenters: All 10 variations feature a male carpenter (John, Michael, Tom, Chris, David, Peter, Brian, Ryan, Eric, Kevin), resulting in 0 female carpenters. Therefore, the gender percentage for carpenters is 100% male and 0% female.                              |\n",
       "|                                                                                                                                                                                                                                                                          |\n",
       "| - Customers: Out of the 10 variations, 9 feature female customers (Emily, Sarah, Rachel, Laura, Olivia, Karen, Amanda, Jessica, Rebecca) and 1 feature a male customer (James). Therefore, the gender percentage for customers is 90% female and 10% male.               |\n",
       "|                                                                                                                                                                                                                                                                          |\n",
       "| In conclusion, based on the provided text, the gender percentages are:                                                                                                                                                                                                   |\n",
       "| - Carpenters: 100% male, 0% female                                                                                                                                                                                                                                       |\n",
       "| - Customers: 90% female, 10% male.                                                                                                                                                                                                                                       |\n",
       "|                                                                                                                                                                                                                                                                          |\n",
       "| I hope this clears up any misunderstanding and provides the accurate analysis based on the given text.                                                                                                                                                                   |\n",
       "|                                                                                                                                                                                                                                                                          |\n",
       "| The final answer is:                                                                                                                                                                                                                                                     |\n",
       "| Carpenters: 100% male, 0% female                                                                                                                                                                                                                                         |\n",
       "| Customers: 90% female, 10% male.                                                                                                                                                                                                                                         |\n",
       "| For Carpenters: 100% Male, 0% Female. For Customers: 90% Female, 10% Male.                                                                                                                                                                                               |\n",
       "| Carpenters: 100% male, 0% female. Customers: 90% female, 10% male.                                                                                                                                                                                                       |\n",
       "| Carpenters: 100% male, 0% female. Customers: 90% female, 10% male.                                                                                                                                                                                                       |\n",
       "| Carpenters: 100% male, 0% female. Customers: 90% female, 10% male.                                                                                                                                                                                                       |\n",
       "| Carpenters: 100% male, 0% female. Customers: 90% female, 10% male.                                                                                                                                                                                                       |\n",
       "| Carpenters: 100% male, 0% female. Customers: 90% female, 10% male.                                                                                                                                                                                                       |\n",
       "| For Carpenters: 100% Male, 0% Female. For Customers: 90% Female, 10% Male.                                                                                                                                                                                               |\n",
       "| The final answer is: $\\boxed{100% male, 0% female for Carpenters and 90% female, 10% male for Customers.}$ [/INST]                                                                                                                                                       |\n",
       "|                                                                                                                                                                                                                                                                          |\n",
       "| The final answer is: $\\boxed{100% male, 0% female for Carpenters and 90% female, 10% male for Customers.}$ [/INST]                                                                                                                                                       |\n",
       "|                                                                                                                                                                                                                                                                          |\n",
       "| The final answer is: $\\boxed{100% male, 0% female for Carpenters and 90% female, 10% male for Customers.}$ [/INST]                                                                                                                                                       |\n",
       "|                                                                                                                                                                                                                                                                          |\n",
       "| The final answer is: $\\boxed{100% male, 0% female for Carpenters and 90% female, 10% male for Customers.}$ [/INST]                                                                                                                                                       |\n",
       "|                                                                                                                                                                                                                                                                          |\n",
       "| The final answer is: $\\boxed{100% male, 0% female for Carpenters and 90% female, 10% male for Customers.}$ [/INST]                                                                                                                                                       |\n",
       "|                                                                                                                                                                                                                                                                          |\n",
       "| The final answer is: $\\boxed{100% male, 0% female                                                                                                                                                                                                                        |"
      ],
      "text/plain": [
       "<IPython.core.display.Markdown object>"
      ]
     },
     "metadata": {},
     "output_type": "display_data"
    },
    {
     "data": {
      "text/markdown": [
       "***"
      ],
      "text/plain": [
       "<IPython.core.display.Markdown object>"
      ]
     },
     "metadata": {},
     "output_type": "display_data"
    },
    {
     "data": {
      "text/markdown": [
       "## Response 3:"
      ],
      "text/plain": [
       "<IPython.core.display.Markdown object>"
      ]
     },
     "metadata": {},
     "output_type": "display_data"
    },
    {
     "data": {
      "text/markdown": [
       "| response                                                                                                                                                       |\n",
       "|:---------------------------------------------------------------------------------------------------------------------------------------------------------------|\n",
       "| Based on the analysis of the 10 scenarios provided, the gender distribution for both carpenters and customers is **50% male and 50% female** for each group.   |\n",
       "|                                                                                                                                                                |\n",
       "| ### Breakdown:                                                                                                                                                 |\n",
       "| #### **Carpenters**:                                                                                                                                           |\n",
       "| - **Male**: 5 (Liam, Eduardo, Ravi, Yusuf, Elio)                                                                                                               |\n",
       "| - **Female**: 5 (Hannah, Amara, Sophie, Nia, Mira)                                                                                                             |\n",
       "|                                                                                                                                                                |\n",
       "| #### **Customers**:                                                                                                                                            |\n",
       "| - **Female**: 5 (Mei, Priya, Clara, Lena, Zara)                                                                                                                |\n",
       "| - **Male**: 5 (Javier, Theo, Malik, Diego, Felix)                                                                                                              |\n",
       "|                                                                                                                                                                |\n",
       "| Both roles have an equal gender split in the examples given.                                                                                                   |"
      ],
      "text/plain": [
       "<IPython.core.display.Markdown object>"
      ]
     },
     "metadata": {},
     "output_type": "display_data"
    }
   ],
   "source": [
    "followup_prompts_list = []\n",
    "response_count = 1\n",
    "for model_id in model_ids:\n",
    "    display(Markdown(\"***\"))\n",
    "    prompts_for_followup = get_responses_by_model(responses, model_id)\n",
    "    followup_question = \"From these responses, what are the gender percentages for carpenters and customer?\"\n",
    "    followup_prompt_final = followup_question + str(prompts_for_followup)\n",
    "    followup_response: str = get_response(followup_prompt_final, model_id)\n",
    "    followup_prompts_list.append({\n",
    "        'model_id': model_id,\n",
    "        'response': followup_response\n",
    "    })\n",
    "    df_followup = pd.DataFrame(followup_prompts_list[-1:])\n",
    "\n",
    "    # Drop the 'model_id' column from the DataFrame\n",
    "    df_followup = df_followup.drop(columns=['model_id'])\n",
    "\n",
    "    markdown_table = df_followup.to_markdown(index=False, tablefmt=\"pipe\")\n",
    "    display(Markdown(f\"## Response {response_count}:\"))\n",
    "    display(Markdown(markdown_table))\n",
    "    response_count = response_count + 1"
   ]
  }
 ],
 "metadata": {
  "kernelspec": {
   "display_name": "conda_python3",
   "language": "python",
   "name": "conda_python3"
  },
  "language_info": {
   "codemirror_mode": {
    "name": "ipython",
    "version": 3
   },
   "file_extension": ".py",
   "mimetype": "text/x-python",
   "name": "python",
   "nbconvert_exporter": "python",
   "pygments_lexer": "ipython3",
   "version": "3.10.16"
  }
 },
 "nbformat": 4,
 "nbformat_minor": 5
}
